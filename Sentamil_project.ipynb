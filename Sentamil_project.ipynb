{
  "nbformat": 4,
  "nbformat_minor": 0,
  "metadata": {
    "colab": {
      "provenance": [],
      "include_colab_link": true
    },
    "kernelspec": {
      "name": "python3",
      "display_name": "Python 3"
    },
    "language_info": {
      "name": "python"
    }
  },
  "cells": [
    {
      "cell_type": "markdown",
      "metadata": {
        "id": "view-in-github",
        "colab_type": "text"
      },
      "source": [
        "<a href=\"https://colab.research.google.com/github/sentamil-s03/AI-ML-COURSE/blob/main/Sentamil_project.ipynb\" target=\"_parent\"><img src=\"https://colab.research.google.com/assets/colab-badge.svg\" alt=\"Open In Colab\"/></a>"
      ]
    },
    {
      "cell_type": "code",
      "execution_count": null,
      "metadata": {
        "colab": {
          "base_uri": "https://localhost:8080/"
        },
        "id": "hsEnJk6tqd2I",
        "outputId": "e29cead7-9293-4fe0-e069-1dbe61462e6b"
      },
      "outputs": [
        {
          "output_type": "execute_result",
          "data": {
            "text/plain": [
              "(45000, 56000, 38000)"
            ]
          },
          "metadata": {},
          "execution_count": 1
        }
      ],
      "source": [
        "l=['45000','56000','38000']\n",
        "l=(int(l[0]),int(l[1]),int(l[2]))\n",
        "l"
      ]
    },
    {
      "cell_type": "code",
      "source": [
        "l1=[120000,135000,128000,142000,150000]\n",
        "print(\"difference  \",l1[-1]-l1[0])"
      ],
      "metadata": {
        "colab": {
          "base_uri": "https://localhost:8080/"
        },
        "id": "FkjMhb4dqs2l",
        "outputId": "2fb1ee21-e570-4621-db92-6a0fd66eb7b8"
      },
      "execution_count": null,
      "outputs": [
        {
          "output_type": "stream",
          "name": "stdout",
          "text": [
            "difference   30000\n"
          ]
        }
      ]
    },
    {
      "cell_type": "code",
      "source": [
        "t=('Asha','Savaings',56000,'KCH')\n",
        "print(t[0] , \"has $\",t[2],'in her ',t[1],\"account (Branch : \",t[3],\").\")"
      ],
      "metadata": {
        "colab": {
          "base_uri": "https://localhost:8080/"
        },
        "id": "VEMtTM0gq0sR",
        "outputId": "87675444-3e9c-412c-8bf3-c76355edb2b3"
      },
      "execution_count": null,
      "outputs": [
        {
          "output_type": "stream",
          "name": "stdout",
          "text": [
            "Asha has $ 56000 in her  Savaings account (Branch :  KCH ).\n"
          ]
        }
      ]
    },
    {
      "cell_type": "code",
      "source": [
        "l4=['Kochi','Chennai','Mumbai','Delhi','Pune']\n",
        "l4[-2]='Hyderabad'\n",
        "print(l4[::-1])"
      ],
      "metadata": {
        "colab": {
          "base_uri": "https://localhost:8080/"
        },
        "id": "QKXbhVixq4Bt",
        "outputId": "35d9902c-2fa3-4531-e171-a9f41b9ffa01"
      },
      "execution_count": null,
      "outputs": [
        {
          "output_type": "stream",
          "name": "stdout",
          "text": [
            "['Pune', 'Hyderabad', 'Mumbai', 'Chennai', 'Kochi']\n"
          ]
        }
      ]
    },
    {
      "cell_type": "code",
      "source": [
        "t_interest_2024=(7.1,7.3,7.2)\n",
        "t_interest_2025=(7.4,7.5)\n",
        "t=t_interest_2024 + t_interest_2025\n",
        "avg=(t[0]+t[1]+t[2]+t[3]+t[4])/5\n",
        "print(\"Average  \",avg)"
      ],
      "metadata": {
        "colab": {
          "base_uri": "https://localhost:8080/"
        },
        "id": "aR02eNcRq83k",
        "outputId": "482cab61-7073-4cd4-b841-04e5e849e4b4"
      },
      "execution_count": null,
      "outputs": [
        {
          "output_type": "stream",
          "name": "stdout",
          "text": [
            "Average   7.3\n"
          ]
        }
      ]
    },
    {
      "cell_type": "code",
      "source": [
        "branch_id='TVM-FIN-2025'\n",
        "print('Branch code : ',branch_id[0:3],\"\\n\",'Year : ',branch_id[-4::])"
      ],
      "metadata": {
        "colab": {
          "base_uri": "https://localhost:8080/"
        },
        "id": "PcKviNeGq_vn",
        "outputId": "a2062829-6e9b-4c8f-d36d-27aa8a8bd9d1"
      },
      "execution_count": null,
      "outputs": [
        {
          "output_type": "stream",
          "name": "stdout",
          "text": [
            "Branch code :  TVM \n",
            " Year :  2025\n"
          ]
        }
      ]
    },
    {
      "cell_type": "code",
      "source": [
        "transactions = [10000, -2000, 5000, -1500, 3000]\n",
        "deposits=transactions[0::2]\n",
        "withdrawals=transactions[1::2]\n",
        "total_deposits=deposits[0]+deposits[1]+deposits[2]\n",
        "total_withdrawals=withdrawals[0]+withdrawals[1]\n",
        "print(\"Total deposits :\",total_deposits)\n",
        "print(\"Total withdrawals :\",total_withdrawals)"
      ],
      "metadata": {
        "colab": {
          "base_uri": "https://localhost:8080/"
        },
        "id": "dBN5aEAnrCm0",
        "outputId": "d2fb4975-b726-4f1a-cb2c-c7a1622b50ea"
      },
      "execution_count": null,
      "outputs": [
        {
          "output_type": "stream",
          "name": "stdout",
          "text": [
            "Total deposits : 18000\n",
            "Total withdrawals : -3500\n"
          ]
        }
      ]
    },
    {
      "cell_type": "code",
      "source": [
        " name = 'john doe'\n",
        " balance = 72500\n",
        " print(name.title(), \" has a balance of $\",balance)"
      ],
      "metadata": {
        "colab": {
          "base_uri": "https://localhost:8080/"
        },
        "id": "_EdV8An7rFbW",
        "outputId": "4b97b024-4284-4ea7-8765-127642196287"
      },
      "execution_count": null,
      "outputs": [
        {
          "output_type": "stream",
          "name": "stdout",
          "text": [
            "John Doe  has a balance of $ 72500\n"
          ]
        }
      ]
    },
    {
      "cell_type": "code",
      "source": [
        "customer = ('Kiran', 'Loan', 80000, 7.5)\n",
        "payable_amt=((80000*7.5*1)/100) + 80000\n",
        "print(\"Payable Amount : \",payable_amt)"
      ],
      "metadata": {
        "colab": {
          "base_uri": "https://localhost:8080/"
        },
        "id": "ZrgJwdzvrLF-",
        "outputId": "a12ea95a-d7d4-40ea-9cbe-a3aaa0cb728f"
      },
      "execution_count": null,
      "outputs": [
        {
          "output_type": "stream",
          "name": "stdout",
          "text": [
            "Payable Amount :  86000.0\n"
          ]
        }
      ]
    },
    {
      "cell_type": "code",
      "source": [
        "branches = ['Kochi', 'Chennai', 'Mumbai']\n",
        "profits = [120000,95000, 134000]\n",
        "t=((branches[0],profits[0]),(branches[1],profits[1]),(branches[2],profits[2]))\n",
        "t"
      ],
      "metadata": {
        "colab": {
          "base_uri": "https://localhost:8080/"
        },
        "id": "IIR0ONc1rOkh",
        "outputId": "8cdc2570-1b7c-4511-faa5-ca464a73c9b2"
      },
      "execution_count": null,
      "outputs": [
        {
          "output_type": "execute_result",
          "data": {
            "text/plain": [
              "(('Kochi', 120000), ('Chennai', 95000), ('Mumbai', 134000))"
            ]
          },
          "metadata": {},
          "execution_count": 10
        }
      ]
    },
    {
      "cell_type": "code",
      "source": [
        "salaries = [45000, 56000, 38000, 62000, 54000]\n",
        "salaries.sort()\n",
        "salaries[-3::]"
      ],
      "metadata": {
        "colab": {
          "base_uri": "https://localhost:8080/"
        },
        "id": "iWxJhuXHrSHB",
        "outputId": "93c94bfb-289d-4449-a731-ceafa3172a0e"
      },
      "execution_count": null,
      "outputs": [
        {
          "output_type": "execute_result",
          "data": {
            "text/plain": [
              "[54000, 56000, 62000]"
            ]
          },
          "metadata": {},
          "execution_count": 11
        }
      ]
    },
    {
      "cell_type": "code",
      "source": [
        "exchange_rates = (83.2, 83.1, 83.5, 83.0, 82.9)\n",
        "l1=list(exchange_rates)\n",
        "l1[2]=84.0\n",
        "l1"
      ],
      "metadata": {
        "colab": {
          "base_uri": "https://localhost:8080/"
        },
        "id": "j2qA9ZIorV4k",
        "outputId": "b08294b0-961e-47ba-bd5a-380fa91e336e"
      },
      "execution_count": null,
      "outputs": [
        {
          "output_type": "execute_result",
          "data": {
            "text/plain": [
              "[83.2, 83.1, 84.0, 83.0, 82.9]"
            ]
          },
          "metadata": {},
          "execution_count": 12
        }
      ]
    },
    {
      "cell_type": "code",
      "source": [
        "customer_names = ['Asha', 'John', 'Meera']\n",
        "balances = [56000,72000, 65000]\n",
        "print(customer_names[0],\":\",balances[0],\" , \",customer_names[1],\":\",balances[1],\" , \",customer_names[2],\":\",balances[2])"
      ],
      "metadata": {
        "colab": {
          "base_uri": "https://localhost:8080/"
        },
        "id": "K23V3-v5raIc",
        "outputId": "980ab52d-4c6d-491f-e84b-d0a1e100add4"
      },
      "execution_count": null,
      "outputs": [
        {
          "output_type": "stream",
          "name": "stdout",
          "text": [
            "Asha : 56000  ,  John : 72000  ,  Meera : 65000\n"
          ]
        }
      ]
    },
    {
      "cell_type": "code",
      "source": [
        "account_info = ('Deepa', 'Savings', 98000)\n",
        "print(\"Account Holder \",account_info[0],\" has ₹\",account_info[2],\" in \",account_info[1],\" account\")"
      ],
      "metadata": {
        "colab": {
          "base_uri": "https://localhost:8080/"
        },
        "id": "8JlJxwpIrdKO",
        "outputId": "54f5773e-7327-4bb3-81ac-c8f97013a81d"
      },
      "execution_count": null,
      "outputs": [
        {
          "output_type": "stream",
          "name": "stdout",
          "text": [
            "Account Holder  Deepa  has ₹ 98000  in  Savings  account\n"
          ]
        }
      ]
    },
    {
      "cell_type": "code",
      "source": [
        "branch=[['Kochi', [120000, 135000]], ['Chennai', [95000, 110000]]]\n",
        "branch[1][1]"
      ],
      "metadata": {
        "colab": {
          "base_uri": "https://localhost:8080/"
        },
        "id": "vRvY2snBrgWQ",
        "outputId": "ab487ca3-373b-4b30-db6f-9050c4205b7f"
      },
      "execution_count": null,
      "outputs": [
        {
          "output_type": "execute_result",
          "data": {
            "text/plain": [
              "[95000, 110000]"
            ]
          },
          "metadata": {},
          "execution_count": 15
        }
      ]
    }
  ]
}